{
 "cells": [
  {
   "cell_type": "markdown",
   "metadata": {
    "pycharm": {
     "name": "#%% md\n"
    }
   },
   "source": [
    "# PGExplainer on BA-Shapes dataset for 2-layer GCN"
   ]
  },
  {
   "cell_type": "code",
   "execution_count": 1,
   "metadata": {
    "collapsed": true
   },
   "outputs": [],
   "source": [
    "from dig.xgraph.dataset import SynGraphDataset\n",
    "from dig.xgraph.models import *\n",
    "import torch\n",
    "from torch_geometric.data import DataLoader\n",
    "from torch_geometric.data import Data, InMemoryDataset, download_url, extract_zip\n",
    "import os.path as osp\n",
    "import os\n",
    "\n",
    "device = torch.device('cuda:0' if torch.cuda.is_available() else 'cpu')"
   ]
  },
  {
   "cell_type": "markdown",
   "metadata": {
    "pycharm": {
     "name": "#%% md\n"
    }
   },
   "source": [
    "### Load dataset"
   ]
  },
  {
   "cell_type": "code",
   "execution_count": 2,
   "metadata": {
    "pycharm": {
     "name": "#%%\n"
    }
   },
   "outputs": [],
   "source": [
    "def index_to_mask(index, size):\n",
    "    mask = torch.zeros(size, dtype=torch.bool, device=index.device)\n",
    "    mask[index] = 1\n",
    "    return mask\n",
    "\n",
    "def split_dataset(dataset):\n",
    "    indices = []\n",
    "    num_classes = 4\n",
    "    train_percent = 0.7\n",
    "    for i in range(num_classes):\n",
    "        index = (dataset.data.y == i).nonzero().view(-1)\n",
    "        index = index[torch.randperm(index.size(0))]\n",
    "        indices.append(index)\n",
    "\n",
    "    train_index = torch.cat([i[:int(len(i) * train_percent)] for i in indices], dim=0)\n",
    "\n",
    "    rest_index = torch.cat([i[int(len(i) * train_percent):] for i in indices], dim=0)\n",
    "    rest_index = rest_index[torch.randperm(rest_index.size(0))]\n",
    "\n",
    "    dataset.data.train_mask = index_to_mask(train_index, size=dataset.data.num_nodes)\n",
    "    dataset.data.val_mask = index_to_mask(rest_index[:len(rest_index) // 2], size=dataset.data.num_nodes)\n",
    "    dataset.data.test_mask = index_to_mask(rest_index[len(rest_index) // 2:], size=dataset.data.num_nodes)\n",
    "\n",
    "    dataset.data, dataset.slices = dataset.collate([dataset.data])\n",
    "\n",
    "    return dataset\n",
    "\n",
    "dataset = SynGraphDataset('./datasets', 'BA_shapes')\n",
    "dataset.data.x = dataset.data.x.to(torch.float32)\n",
    "dataset.data.x = dataset.data.x[:, :1]\n",
    "# dataset.data.y = dataset.data.y[:, 2]\n",
    "dim_node = dataset.num_node_features\n",
    "dim_edge = dataset.num_edge_features\n",
    "# num_targets = dataset.num_classes\n",
    "num_classes = dataset.num_classes\n",
    "\n",
    "splitted_dataset = split_dataset(dataset)\n",
    "splitted_dataset.data.mask = splitted_dataset.data.test_mask\n",
    "splitted_dataset.slices['mask'] = splitted_dataset.slices['train_mask']\n",
    "dataloader = DataLoader(splitted_dataset, batch_size=1, shuffle=False)"
   ]
  },
  {
   "cell_type": "markdown",
   "metadata": {
    "pycharm": {
     "name": "#%% md\n"
    }
   },
   "source": [
    "### Load model and checkpoints"
   ]
  },
  {
   "cell_type": "code",
   "execution_count": 3,
   "metadata": {
    "pycharm": {
     "name": "#%%\n"
    }
   },
   "outputs": [
    {
     "data": {
      "text/plain": "<All keys matched successfully>"
     },
     "execution_count": 3,
     "metadata": {},
     "output_type": "execute_result"
    }
   ],
   "source": [
    "def check_checkpoints(root='./'):\n",
    "    if osp.exists(osp.join(root, 'checkpoints')):\n",
    "        return\n",
    "    url = ('https://github.com/divelab/DIG_storage/raw/main/xgraph/checkpoints.zip')\n",
    "    path = download_url(url, root)\n",
    "    extract_zip(path, root)\n",
    "    os.unlink(path)\n",
    "\n",
    "model = GCN_2l(model_level='node', dim_node=dim_node, dim_hidden=300, num_classes=num_classes)\n",
    "model.to(device)\n",
    "check_checkpoints()\n",
    "ckpt_path = osp.join('checkpoints', 'ba_shapes', 'GCN_2l', '0', 'GCN_2l_best.ckpt')\n",
    "model.load_state_dict(torch.load(ckpt_path)['state_dict'])"
   ]
  },
  {
   "cell_type": "code",
   "execution_count": 4,
   "metadata": {
    "pycharm": {
     "name": "#%%\n"
    }
   },
   "outputs": [
    {
     "name": "stderr",
     "output_type": "stream",
     "text": [
      "100%|██████████| 560/560 [00:00<00:00, 10215.51it/s]\n",
      "560it [00:15, 36.69it/s]\n",
      "560it [00:13, 40.76it/s]\n",
      "560it [00:12, 43.24it/s]\n",
      "560it [00:17, 31.17it/s]\n",
      "560it [00:22, 24.45it/s]\n",
      "560it [00:25, 21.85it/s]\n",
      "560it [00:24, 23.21it/s]\n",
      "560it [00:22, 25.10it/s]\n",
      "560it [00:22, 25.44it/s]\n",
      "560it [00:21, 25.67it/s]\n",
      "560it [00:23, 24.13it/s]\n",
      "560it [00:24, 23.08it/s]\n",
      "560it [00:23, 23.52it/s]\n",
      "560it [00:18, 30.19it/s]\n",
      "560it [00:17, 32.79it/s]\n",
      "560it [00:16, 34.47it/s]\n",
      "560it [00:16, 33.35it/s]\n",
      "560it [00:15, 35.07it/s]\n",
      "560it [00:16, 34.81it/s]\n",
      "560it [00:16, 33.43it/s]\n"
     ]
    },
    {
     "name": "stdout",
     "output_type": "stream",
     "text": [
      "Epoch: 0 | Loss: 8.894268180855683\n",
      "Epoch: 1 | Loss: 8.846726562508515\n",
      "Epoch: 2 | Loss: 8.56760711020657\n",
      "Epoch: 3 | Loss: 8.010523775539228\n",
      "Epoch: 4 | Loss: 7.263117306360177\n",
      "Epoch: 5 | Loss: 6.238618776787605\n",
      "Epoch: 6 | Loss: 5.265949377949749\n",
      "Epoch: 7 | Loss: 4.691092160317514\n",
      "Epoch: 8 | Loss: 4.530065295419523\n",
      "Epoch: 9 | Loss: 4.613764908297786\n",
      "Epoch: 10 | Loss: 4.71995146330446\n",
      "Epoch: 11 | Loss: 4.820705992249506\n",
      "Epoch: 12 | Loss: 4.902427153342536\n",
      "Epoch: 13 | Loss: 4.950923837881003\n",
      "Epoch: 14 | Loss: 4.986500304724489\n",
      "Epoch: 15 | Loss: 5.010961620828935\n",
      "Epoch: 16 | Loss: 5.024333437266094\n",
      "Epoch: 17 | Loss: 5.03567554785737\n",
      "Epoch: 18 | Loss: 5.043968493065663\n",
      "Epoch: 19 | Loss: 5.047438699007034\n",
      "training time is 387.54s\n"
     ]
    },
    {
     "data": {
      "text/plain": "<All keys matched successfully>"
     },
     "execution_count": 4,
     "metadata": {},
     "output_type": "execute_result"
    }
   ],
   "source": [
    "from dig.xgraph.method import PGExplainer\n",
    "explainer = PGExplainer(model, in_channels=900, device=device, explain_graph=False)\n",
    "\n",
    "explainer.train_explanation_network(splitted_dataset)\n",
    "torch.save(explainer.state_dict(), 'tmp.pt')\n",
    "state_dict = torch.load('tmp.pt')\n",
    "explainer.load_state_dict(state_dict)"
   ]
  },
  {
   "cell_type": "markdown",
   "metadata": {
    "pycharm": {
     "name": "#%% md\n"
    }
   },
   "source": [
    "### Visualization"
   ]
  },
  {
   "cell_type": "code",
   "execution_count": 5,
   "metadata": {
    "pycharm": {
     "name": "#%%\n"
    }
   },
   "outputs": [
    {
     "data": {
      "text/plain": "<Figure size 432x288 with 1 Axes>",
      "image/png": "[encoded data removed]"
     },
     "metadata": {},
     "output_type": "display_data"
    }
   ],
   "source": [
    "node_indices = torch.where(dataset[0].test_mask * dataset[0].y != 0)[0].tolist()\n",
    "from dig.xgraph.method.pgexplainer import PlotUtils\n",
    "plotutils = PlotUtils(dataset_name='ba_shapes', is_show=True)\n",
    "data = dataset[0]\n",
    "node_idx = node_indices[6]\n",
    "with torch.no_grad():\n",
    "    walks, masks, related_preds = \\\n",
    "        explainer(data.x, data.edge_index, node_idx=node_idx, y=data.y, top_k=5)\n",
    "\n",
    "explainer.visualization(data, edge_mask=masks[0], top_k=5, plot_utils=plotutils, node_idx=node_idx)"
   ]
  },
  {
   "cell_type": "markdown",
   "metadata": {
    "pycharm": {
     "name": "#%% md\n"
    }
   },
   "source": [
    "### Metric results"
   ]
  },
  {
   "cell_type": "code",
   "execution_count": 6,
   "metadata": {
    "pycharm": {
     "name": "#%%\n"
    }
   },
   "outputs": [
    {
     "name": "stdout",
     "output_type": "stream",
     "text": [
      "Fidelity: 0.8181\n",
      "Fidelity_inv: 0.7251\n",
      "Sparsity: 0.2311\n"
     ]
    }
   ],
   "source": [
    "top_k = 5\n",
    "undirected_graph = True\n",
    "# --- Create data collector and explanation processor ---\n",
    "from dig.xgraph.evaluation import XCollector\n",
    "x_collector = XCollector()\n",
    "\n",
    "### Run explainer on the given model and dataset\n",
    "index = -1\n",
    "node_indices = torch.where(dataset[0].test_mask * dataset[0].y != 0)[0].tolist()\n",
    "top_k = top_k if not undirected_graph else top_k * 2\n",
    "\n",
    "for i, data in enumerate(dataloader):\n",
    "    for j, node_idx in enumerate(node_indices):\n",
    "        index += 1\n",
    "        data.to(device)\n",
    "\n",
    "        if torch.isnan(data.y[0].squeeze()):\n",
    "            continue\n",
    "\n",
    "        with torch.no_grad():\n",
    "            walks, masks, related_preds = \\\n",
    "                explainer(data.x, data.edge_index, node_idx=node_idx, y=data.y, top_k=top_k)\n",
    "            masks = [mask.detach() for mask in masks]\n",
    "        x_collector.collect_data(masks, related_preds)\n",
    "\n",
    "        # if you only have the edge masks without related_pred, please feed sparsity controlled mask to\n",
    "        # obtain the result: x_processor(data, masks, x_collector)\n",
    "        if index >= 99:\n",
    "            break\n",
    "\n",
    "    if index >= 20:\n",
    "        break\n",
    "\n",
    "\n",
    "print(f'Fidelity: {x_collector.fidelity:.4f}\\n'\n",
    "      f'Fidelity_inv: {x_collector.fidelity_inv:.4f}\\n'\n",
    "      f'Sparsity: {x_collector.sparsity:.4f}')"
   ]
  },
  {
   "cell_type": "code",
   "execution_count": 6,
   "outputs": [],
   "source": [],
   "metadata": {
    "collapsed": false,
    "pycharm": {
     "name": "#%%\n"
    }
   }
  },
  {
   "cell_type": "code",
   "execution_count": 6,
   "outputs": [],
   "source": [],
   "metadata": {
    "collapsed": false,
    "pycharm": {
     "name": "#%%\n"
    }
   }
  }
 ],
 "metadata": {
  "kernelspec": {
   "name": "python3",
   "language": "python",
   "display_name": "Python 3"
  },
  "language_info": {
   "codemirror_mode": {
    "name": "ipython",
    "version": 3
   },
   "file_extension": ".py",
   "mimetype": "text/x-python",
   "name": "python",
   "nbconvert_exporter": "python",
   "pygments_lexer": "ipython3",
   "version": "3.8.5"
  }
 },
 "nbformat": 4,
 "nbformat_minor": 1
}