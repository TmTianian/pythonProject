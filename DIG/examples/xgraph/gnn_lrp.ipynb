{
 "cells": [
  {
   "cell_type": "markdown",
   "source": [
    "# GNN-LRP on BA-LRP dataset for GCN"
   ],
   "metadata": {
    "collapsed": false,
    "pycharm": {
     "name": "#%% md\n"
    }
   }
  },
  {
   "cell_type": "code",
   "execution_count": 1,
   "metadata": {
    "collapsed": true
   },
   "outputs": [],
   "source": [
    "from dig.xgraph.dataset import BA_LRP\n",
    "from dig.xgraph.models import GCN_3l\n",
    "import torch\n",
    "from torch.utils.data import random_split\n",
    "from torch_geometric.data import DataLoader\n",
    "from torch_geometric.data import Data, InMemoryDataset, download_url, extract_zip\n",
    "from torch_geometric.data.dataset import files_exist\n",
    "import os.path as osp\n",
    "import os\n",
    "\n",
    "device = torch.device('cuda:0' if torch.cuda.is_available() else 'cpu')"
   ]
  },
  {
   "cell_type": "markdown",
   "source": [
    "### Load dataset"
   ],
   "metadata": {
    "collapsed": false,
    "pycharm": {
     "name": "#%% md\n"
    }
   }
  },
  {
   "cell_type": "code",
   "execution_count": 2,
   "outputs": [],
   "source": [
    "def split_dataset(dataset, dataset_split=[0.8, 0.1, 0.1]):\n",
    "    dataset_len = len(dataset)\n",
    "    dataset_split = [int(dataset_len * dataset_split[0]),\n",
    "                     int(dataset_len * dataset_split[1]),\n",
    "                     0]\n",
    "    dataset_split[2] = dataset_len - dataset_split[0] - dataset_split[1]\n",
    "    train_set, val_set, test_set = \\\n",
    "        random_split(dataset, dataset_split)\n",
    "\n",
    "    return {'train': train_set, 'val': val_set, 'test': test_set}\n",
    "\n",
    "dataset = BA_LRP('datasets')\n",
    "dataset.data.x = dataset.data.x.to(torch.float32)\n",
    "dataset.data.y = dataset.data.y[:, 0]\n",
    "dim_node = dataset.num_node_features\n",
    "dim_edge = dataset.num_edge_features\n",
    "num_targets = dataset.num_classes\n",
    "num_classes = 2\n",
    "\n",
    "splitted_dataset = split_dataset(dataset)\n",
    "dataloader = DataLoader(splitted_dataset['test'], batch_size=1, shuffle=False)"
   ],
   "metadata": {
    "collapsed": false,
    "pycharm": {
     "name": "#%%\n"
    }
   }
  },
  {
   "cell_type": "markdown",
   "source": [
    "### Load model and checkpoints"
   ],
   "metadata": {
    "collapsed": false,
    "pycharm": {
     "name": "#%% md\n"
    }
   }
  },
  {
   "cell_type": "code",
   "execution_count": 3,
   "outputs": [
    {
     "data": {
      "text/plain": "<All keys matched successfully>"
     },
     "execution_count": 3,
     "metadata": {},
     "output_type": "execute_result"
    }
   ],
   "source": [
    "def check_checkpoints(root='./'):\n",
    "    if osp.exists(osp.join(root, 'checkpoints')):\n",
    "        return\n",
    "    url = ('https://github.com/divelab/DIG_storage/raw/main/xgraph/checkpoints.zip')\n",
    "    path = download_url(url, root)\n",
    "    extract_zip(path, root)\n",
    "    os.unlink(path)\n",
    "\n",
    "model = GCN_3l(model_level='graph', dim_node=dim_node, dim_hidden=300, num_classes=num_classes)\n",
    "model.to(device)\n",
    "check_checkpoints()\n",
    "ckpt_path = osp.join('checkpoints', 'ba_lrp', 'GCN_3l', '0', 'GCN_3l_best.ckpt')\n",
    "model.load_state_dict(torch.load(ckpt_path)['state_dict'])"
   ],
   "metadata": {
    "collapsed": false,
    "pycharm": {
     "name": "#%%\n"
    }
   }
  },
  {
   "cell_type": "markdown",
   "source": [
    "### Display example output"
   ],
   "metadata": {
    "collapsed": false,
    "pycharm": {
     "name": "#%% md\n"
    }
   }
  },
  {
   "cell_type": "code",
   "execution_count": 4,
   "outputs": [
    {
     "name": "stdout",
     "output_type": "stream",
     "text": [
      "tensor([[ 4.5527, -4.5171]], device='cuda:0', grad_fn=<AddmmBackward>)\n"
     ]
    }
   ],
   "source": [
    "data = list(dataloader)[0].to(device)\n",
    "out = model(data.x, data.edge_index)\n",
    "print(out)"
   ],
   "metadata": {
    "collapsed": false,
    "pycharm": {
     "name": "#%%\n"
    }
   }
  },
  {
   "cell_type": "markdown",
   "source": [
    "### Load the explainer"
   ],
   "metadata": {
    "collapsed": false,
    "pycharm": {
     "name": "#%% md\n"
    }
   }
  },
  {
   "cell_type": "code",
   "execution_count": 5,
   "outputs": [],
   "source": [
    "from dig.xgraph.method import GNN_LRP\n",
    "explainer = GNN_LRP(model, explain_graph=True)"
   ],
   "metadata": {
    "collapsed": false,
    "pycharm": {
     "name": "#%%\n"
    }
   }
  },
  {
   "cell_type": "markdown",
   "source": [
    "### Setup for evaluation"
   ],
   "metadata": {
    "collapsed": false,
    "pycharm": {
     "name": "#%% md\n"
    }
   }
  },
  {
   "cell_type": "code",
   "execution_count": 6,
   "outputs": [],
   "source": [
    "# --- Set the Sparsity to 0. ---\n",
    "sparsity = 0.5\n",
    "\n",
    "# --- Create data collector and explanation processor ---\n",
    "from dig.xgraph.evaluation import XCollector, ExplanationProcessor\n",
    "x_collector = XCollector(sparsity)\n",
    "# x_processor = ExplanationProcessor(model=model, device=device)"
   ],
   "metadata": {
    "collapsed": false,
    "pycharm": {
     "name": "#%%\n"
    }
   }
  },
  {
   "cell_type": "markdown",
   "source": [
    "### Run explainer on the given model and dataset"
   ],
   "metadata": {
    "collapsed": false,
    "pycharm": {
     "name": "#%% md\n"
    }
   }
  },
  {
   "cell_type": "code",
   "execution_count": 7,
   "outputs": [
    {
     "name": "stdout",
     "output_type": "stream",
     "text": [
      "explain graph line 13292\n",
      "explain graph line 7148\n",
      "explain graph line 9395\n",
      "explain graph line 14731\n",
      "explain graph line 535\n",
      "explain graph line 112\n",
      "explain graph line 11303\n",
      "explain graph line 11233\n",
      "explain graph line 19985\n",
      "explain graph line 18894\n",
      "explain graph line 5680\n",
      "explain graph line 6223\n",
      "explain graph line 10971\n",
      "explain graph line 11028\n",
      "explain graph line 11216\n",
      "explain graph line 1629\n",
      "explain graph line 19307\n",
      "explain graph line 18027\n",
      "explain graph line 4176\n",
      "explain graph line 11196\n",
      "explain graph line 2758\n",
      "explain graph line 18741\n",
      "explain graph line 10634\n",
      "explain graph line 6300\n",
      "explain graph line 2836\n",
      "explain graph line 2118\n",
      "explain graph line 9890\n",
      "explain graph line 15664\n",
      "explain graph line 10594\n",
      "explain graph line 14338\n",
      "explain graph line 4586\n",
      "explain graph line 12532\n",
      "explain graph line 18048\n",
      "explain graph line 703\n",
      "explain graph line 131\n",
      "explain graph line 10407\n",
      "explain graph line 11259\n",
      "explain graph line 1082\n",
      "explain graph line 5089\n",
      "explain graph line 32\n",
      "explain graph line 5557\n",
      "explain graph line 3034\n",
      "explain graph line 19479\n",
      "explain graph line 14687\n",
      "explain graph line 6584\n",
      "explain graph line 18522\n",
      "explain graph line 5807\n",
      "explain graph line 13873\n",
      "explain graph line 332\n",
      "explain graph line 10802\n",
      "explain graph line 15537\n",
      "explain graph line 13791\n",
      "explain graph line 9116\n",
      "explain graph line 7163\n",
      "explain graph line 19406\n",
      "explain graph line 8370\n",
      "explain graph line 11544\n",
      "explain graph line 10239\n",
      "explain graph line 3950\n",
      "explain graph line 10627\n",
      "explain graph line 11184\n",
      "explain graph line 8076\n",
      "explain graph line 7013\n",
      "explain graph line 14810\n",
      "explain graph line 3253\n",
      "explain graph line 6955\n",
      "explain graph line 9149\n",
      "explain graph line 15338\n",
      "explain graph line 606\n",
      "explain graph line 18050\n",
      "explain graph line 16321\n",
      "explain graph line 9188\n",
      "explain graph line 19053\n",
      "explain graph line 14939\n",
      "explain graph line 8839\n",
      "explain graph line 6788\n",
      "explain graph line 14518\n",
      "explain graph line 11641\n",
      "explain graph line 7081\n",
      "explain graph line 3082\n",
      "explain graph line 3121\n",
      "explain graph line 11312\n",
      "explain graph line 7331\n",
      "explain graph line 17128\n",
      "explain graph line 17256\n",
      "explain graph line 14786\n",
      "explain graph line 9000\n",
      "explain graph line 9481\n",
      "explain graph line 3214\n",
      "explain graph line 12359\n",
      "explain graph line 817\n",
      "explain graph line 17637\n",
      "explain graph line 17895\n",
      "explain graph line 18137\n",
      "explain graph line 12206\n",
      "explain graph line 14344\n",
      "explain graph line 14405\n",
      "explain graph line 13296\n",
      "explain graph line 1219\n",
      "explain graph line 2292\n"
     ]
    }
   ],
   "source": [
    "for index, data in enumerate(dataloader):\n",
    "    print(f'explain graph line {dataloader.dataset.indices[index] + 2}')\n",
    "    data.to(device)\n",
    "\n",
    "    if torch.isnan(data.y[0].squeeze()):\n",
    "        continue\n",
    "\n",
    "    walks, masks, related_preds = \\\n",
    "        explainer(data.x, data.edge_index, sparsity=sparsity, num_classes=num_classes)\n",
    "\n",
    "    x_collector.collect_data(masks, related_preds, data.y[0].squeeze().long().item())\n",
    "\n",
    "    # if you only have the edge masks without related_pred, please feed sparsity controlled mask to\n",
    "    # obtain the result: x_processor(data, masks, x_collector)\n",
    "\n",
    "    if index >= 99:\n",
    "        break"
   ],
   "metadata": {
    "collapsed": false,
    "pycharm": {
     "name": "#%%\n"
    }
   }
  },
  {
   "cell_type": "markdown",
   "source": [
    "### Output metrics evaluation results"
   ],
   "metadata": {
    "collapsed": false,
    "pycharm": {
     "name": "#%% md\n"
    }
   }
  },
  {
   "cell_type": "code",
   "execution_count": 8,
   "outputs": [
    {
     "name": "stdout",
     "output_type": "stream",
     "text": [
      "Fidelity: 0.4957\n",
      "Fidelity_inv: 0.1334\n",
      "Sparsity: 0.5000\n"
     ]
    }
   ],
   "source": [
    "print(f'Fidelity: {x_collector.fidelity:.4f}\\n'\n",
    "      f'Fidelity_inv: {x_collector.fidelity_inv:.4f}\\n'\n",
    "      f'Sparsity: {x_collector.sparsity:.4f}')"
   ],
   "metadata": {
    "collapsed": false,
    "pycharm": {
     "name": "#%%\n"
    }
   }
  }
 ],
 "metadata": {
  "kernelspec": {
   "name": "python3",
   "language": "python",
   "display_name": "Python 3"
  },
  "language_info": {
   "codemirror_mode": {
    "name": "ipython",
    "version": 2
   },
   "file_extension": ".py",
   "mimetype": "text/x-python",
   "name": "python",
   "nbconvert_exporter": "python",
   "pygments_lexer": "ipython2",
   "version": "2.7.6"
  }
 },
 "nbformat": 4,
 "nbformat_minor": 0
}