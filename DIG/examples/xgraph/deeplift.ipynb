{
 "cells": [
  {
   "cell_type": "markdown",
   "source": [
    "# DeepLIFT on Tox21 dataset for GCN"
   ],
   "metadata": {
    "collapsed": false,
    "pycharm": {
     "name": "#%% md\n"
    }
   }
  },
  {
   "cell_type": "code",
   "execution_count": 1,
   "metadata": {
    "collapsed": true
   },
   "outputs": [],
   "source": [
    "from dig.xgraph.dataset import MoleculeDataset\n",
    "from dig.xgraph.models import GCN_3l\n",
    "import torch\n",
    "from torch.utils.data import random_split\n",
    "from torch_geometric.data import DataLoader\n",
    "from torch_geometric.data import Data, InMemoryDataset, download_url, extract_zip\n",
    "from torch_geometric.data.dataset import files_exist\n",
    "import os.path as osp\n",
    "import os\n",
    "\n",
    "device = torch.device('cuda:0' if torch.cuda.is_available() else 'cpu')"
   ]
  },
  {
   "cell_type": "markdown",
   "source": [
    "### Load dataset"
   ],
   "metadata": {
    "collapsed": false,
    "pycharm": {
     "name": "#%% md\n"
    }
   }
  },
  {
   "cell_type": "code",
   "execution_count": 2,
   "outputs": [],
   "source": [
    "def split_dataset(dataset, dataset_split=[0.8, 0.1, 0.1]):\n",
    "    dataset_len = len(dataset)\n",
    "    dataset_split = [int(dataset_len * dataset_split[0]),\n",
    "                     int(dataset_len * dataset_split[1]),\n",
    "                     0]\n",
    "    dataset_split[2] = dataset_len - dataset_split[0] - dataset_split[1]\n",
    "    train_set, val_set, test_set = \\\n",
    "        random_split(dataset, dataset_split)\n",
    "\n",
    "    return {'train': train_set, 'val': val_set, 'test': test_set}\n",
    "\n",
    "dataset = MoleculeDataset('datasets', 'Tox21')\n",
    "dataset.data.x = dataset.data.x.to(torch.float32)\n",
    "dataset.data.y = dataset.data.y[:, 2] # the target 2 task.\n",
    "dim_node = dataset.num_node_features\n",
    "dim_edge = dataset.num_edge_features\n",
    "num_targets = dataset.num_classes\n",
    "num_classes = 2\n",
    "\n",
    "splitted_dataset = split_dataset(dataset)\n",
    "dataloader = DataLoader(splitted_dataset['test'], batch_size=1, shuffle=False)"
   ],
   "metadata": {
    "collapsed": false,
    "pycharm": {
     "name": "#%%\n"
    }
   }
  },
  {
   "cell_type": "markdown",
   "source": [
    "### Load model and checkpoints"
   ],
   "metadata": {
    "collapsed": false,
    "pycharm": {
     "name": "#%% md\n"
    }
   }
  },
  {
   "cell_type": "code",
   "execution_count": 3,
   "outputs": [
    {
     "data": {
      "text/plain": "<All keys matched successfully>"
     },
     "execution_count": 3,
     "metadata": {},
     "output_type": "execute_result"
    }
   ],
   "source": [
    "def check_checkpoints(root='./'):\n",
    "    if osp.exists(osp.join(root, 'checkpoints')):\n",
    "        return\n",
    "    url = ('https://github.com/divelab/DIG_storage/raw/main/xgraph/checkpoints.zip')\n",
    "    path = download_url(url, root)\n",
    "    extract_zip(path, root)\n",
    "    os.unlink(path)\n",
    "\n",
    "model = GCN_3l(model_level='graph', dim_node=dim_node, dim_hidden=300, num_classes=num_classes)\n",
    "model.to(device)\n",
    "check_checkpoints()\n",
    "ckpt_path = osp.join('checkpoints', 'tox21', 'GCN_3l', '2', 'GCN_3l_best.ckpt')\n",
    "model.load_state_dict(torch.load(ckpt_path)['state_dict'])"
   ],
   "metadata": {
    "collapsed": false,
    "pycharm": {
     "name": "#%%\n"
    }
   }
  },
  {
   "cell_type": "markdown",
   "source": [
    "### Display example output"
   ],
   "metadata": {
    "collapsed": false,
    "pycharm": {
     "name": "#%% md\n"
    }
   }
  },
  {
   "cell_type": "code",
   "execution_count": 4,
   "outputs": [
    {
     "name": "stdout",
     "output_type": "stream",
     "text": [
      "tensor([[ 1.0259, -1.0004]], device='cuda:0', grad_fn=<AddmmBackward>)\n"
     ]
    }
   ],
   "source": [
    "data = list(dataloader)[0].to(device)\n",
    "out = model(data.x, data.edge_index)\n",
    "print(out)"
   ],
   "metadata": {
    "collapsed": false,
    "pycharm": {
     "name": "#%%\n"
    }
   }
  },
  {
   "cell_type": "markdown",
   "source": [
    "### Load the explainer"
   ],
   "metadata": {
    "collapsed": false,
    "pycharm": {
     "name": "#%% md\n"
    }
   }
  },
  {
   "cell_type": "code",
   "execution_count": 5,
   "outputs": [],
   "source": [
    "from dig.xgraph.method import DeepLIFT\n",
    "explainer = DeepLIFT(model, explain_graph=True)"
   ],
   "metadata": {
    "collapsed": false,
    "pycharm": {
     "name": "#%%\n"
    }
   }
  },
  {
   "cell_type": "markdown",
   "source": [
    "### Setup for evaluation"
   ],
   "metadata": {
    "collapsed": false,
    "pycharm": {
     "name": "#%% md\n"
    }
   }
  },
  {
   "cell_type": "code",
   "execution_count": 6,
   "outputs": [],
   "source": [
    "# --- Set the Sparsity to 0.5 ---\n",
    "sparsity = 0.5\n",
    "\n",
    "# --- Create data collector and explanation processor ---\n",
    "from dig.xgraph.evaluation import XCollector, ExplanationProcessor\n",
    "x_collector = XCollector(sparsity)\n",
    "# x_processor = ExplanationProcessor(model=model, device=device)"
   ],
   "metadata": {
    "collapsed": false,
    "pycharm": {
     "name": "#%%\n"
    }
   }
  },
  {
   "cell_type": "markdown",
   "source": [
    "### Run explainer on the given model and dataset"
   ],
   "metadata": {
    "collapsed": false,
    "pycharm": {
     "name": "#%% md\n"
    }
   }
  },
  {
   "cell_type": "code",
   "execution_count": 7,
   "outputs": [
    {
     "name": "stdout",
     "output_type": "stream",
     "text": [
      "explain graph line 7545\n",
      "explain graph line 7711\n",
      "explain graph line 4137\n",
      "explain graph line 1463\n",
      "explain graph line 4455\n",
      "explain graph line 4251\n",
      "explain graph line 6633\n",
      "explain graph line 3725\n",
      "explain graph line 282\n",
      "explain graph line 686\n",
      "explain graph line 209\n",
      "explain graph line 7748\n",
      "explain graph line 5089\n",
      "explain graph line 5055\n",
      "explain graph line 424\n",
      "explain graph line 1651\n",
      "explain graph line 1513\n",
      "explain graph line 7199\n",
      "explain graph line 2637\n",
      "explain graph line 3348\n",
      "explain graph line 4963\n",
      "explain graph line 5747\n",
      "explain graph line 5226\n",
      "explain graph line 5231\n",
      "explain graph line 506\n",
      "explain graph line 2950\n",
      "explain graph line 5466\n",
      "explain graph line 4824\n",
      "explain graph line 2036\n",
      "explain graph line 451\n",
      "explain graph line 524\n",
      "explain graph line 4899\n",
      "explain graph line 556\n",
      "explain graph line 3015\n",
      "explain graph line 2414\n",
      "explain graph line 3659\n",
      "explain graph line 5259\n",
      "explain graph line 6400\n",
      "explain graph line 1288\n",
      "explain graph line 5436\n",
      "explain graph line 3796\n",
      "explain graph line 1621\n",
      "explain graph line 7603\n",
      "explain graph line 7657\n",
      "explain graph line 4419\n",
      "explain graph line 6501\n",
      "explain graph line 2756\n",
      "explain graph line 5898\n",
      "explain graph line 899\n",
      "explain graph line 5822\n",
      "explain graph line 3255\n",
      "explain graph line 6585\n",
      "explain graph line 1316\n",
      "explain graph line 3468\n",
      "explain graph line 5080\n",
      "explain graph line 6606\n",
      "explain graph line 334\n",
      "explain graph line 4927\n",
      "explain graph line 665\n",
      "explain graph line 7030\n",
      "explain graph line 2033\n",
      "explain graph line 7764\n",
      "explain graph line 527\n",
      "explain graph line 7440\n",
      "explain graph line 1378\n",
      "explain graph line 5921\n",
      "explain graph line 3773\n",
      "explain graph line 2949\n",
      "explain graph line 3910\n",
      "explain graph line 717\n",
      "explain graph line 3172\n",
      "explain graph line 6382\n",
      "explain graph line 7687\n",
      "explain graph line 3758\n",
      "explain graph line 4071\n",
      "explain graph line 741\n",
      "explain graph line 7142\n",
      "explain graph line 163\n",
      "explain graph line 1439\n",
      "explain graph line 6380\n",
      "explain graph line 2940\n",
      "explain graph line 1632\n",
      "explain graph line 3131\n",
      "explain graph line 5622\n",
      "explain graph line 4497\n",
      "explain graph line 1613\n",
      "explain graph line 6604\n",
      "explain graph line 2639\n",
      "explain graph line 5956\n",
      "explain graph line 6964\n",
      "explain graph line 3941\n",
      "explain graph line 143\n",
      "explain graph line 1810\n",
      "explain graph line 3363\n",
      "explain graph line 4340\n",
      "explain graph line 7266\n",
      "explain graph line 2187\n",
      "explain graph line 4617\n",
      "explain graph line 6738\n",
      "explain graph line 7506\n"
     ]
    }
   ],
   "source": [
    "for index, data in enumerate(dataloader):\n",
    "    print(f'explain graph line {dataloader.dataset.indices[index] + 2}')\n",
    "    data.to(device)\n",
    "\n",
    "    if torch.isnan(data.y[0].squeeze()):\n",
    "        continue\n",
    "\n",
    "    walks, masks, related_preds = \\\n",
    "        explainer(data.x, data.edge_index, sparsity=sparsity, num_classes=num_classes)\n",
    "\n",
    "    x_collector.collect_data(masks, related_preds, data.y[0].squeeze().long().item())\n",
    "\n",
    "    # if you only have the edge masks without related_pred, please feed sparsity controlled mask to\n",
    "    # obtain the result: x_processor(data, masks, x_collector)\n",
    "\n",
    "    if index >= 99:\n",
    "        break"
   ],
   "metadata": {
    "collapsed": false,
    "pycharm": {
     "name": "#%%\n"
    }
   }
  },
  {
   "cell_type": "markdown",
   "source": [
    "### Output metrics evaluation results"
   ],
   "metadata": {
    "collapsed": false,
    "pycharm": {
     "name": "#%% md\n"
    }
   }
  },
  {
   "cell_type": "code",
   "execution_count": 8,
   "outputs": [
    {
     "name": "stdout",
     "output_type": "stream",
     "text": [
      "Fidelity: 0.1843\n",
      "Fidelity_inv: -0.0963\n",
      "Sparsity: 0.5000\n"
     ]
    }
   ],
   "source": [
    "print(f'Fidelity: {x_collector.fidelity:.4f}\\n'\n",
    "      f'Fidelity_inv: {x_collector.fidelity_inv:.4f}\\n'\n",
    "      f'Sparsity: {x_collector.sparsity:.4f}')"
   ],
   "metadata": {
    "collapsed": false,
    "pycharm": {
     "name": "#%%\n"
    }
   }
  },
  {
   "cell_type": "markdown",
   "source": [],
   "metadata": {
    "collapsed": false,
    "pycharm": {
     "name": "#%% md\n"
    }
   }
  }
 ],
 "metadata": {
  "kernelspec": {
   "display_name": "Python 3",
   "language": "python",
   "name": "python3"
  },
  "language_info": {
   "codemirror_mode": {
    "name": "ipython",
    "version": 2
   },
   "file_extension": ".py",
   "mimetype": "text/x-python",
   "name": "python",
   "nbconvert_exporter": "python",
   "pygments_lexer": "ipython2",
   "version": "2.7.6"
  }
 },
 "nbformat": 4,
 "nbformat_minor": 0
}