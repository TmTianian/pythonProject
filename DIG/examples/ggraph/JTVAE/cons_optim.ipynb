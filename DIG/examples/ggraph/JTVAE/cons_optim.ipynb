{
 "cells": [
  {
   "cell_type": "code",
   "execution_count": 1,
   "id": "c5cd0f6d-c287-439f-9dd3-f139a959099d",
   "metadata": {},
   "outputs": [],
   "source": [
    "import sys\n",
    "sys.path.append('../../../../')"
   ]
  },
  {
   "cell_type": "code",
   "execution_count": 2,
   "id": "a677ab5d-900f-4d95-acec-bbf63cfce6c9",
   "metadata": {},
   "outputs": [
    {
     "name": "stderr",
     "output_type": "stream",
     "text": [
      "/data/bora.oztekin/anaconda3/envs/jtvae37f/lib/python3.7/importlib/_bootstrap.py:219: RuntimeWarning: to-Python converter for boost::shared_ptr<RDKit::FilterCatalogEntry const> already registered; second conversion method ignored.\n",
      "  return f(*args, **kwds)\n"
     ]
    }
   ],
   "source": [
    "%load_ext autoreload\n",
    "%autoreload 2\n",
    "\n",
    "import torch\n",
    "from jtvae import JTVAE\n",
    "\n",
    "import jtnn\n",
    "import fast_jtnn\n",
    "\n",
    "path_adj = \"./\""
   ]
  },
  {
   "cell_type": "code",
   "execution_count": 3,
   "id": "1b5ddd35-81b5-4c89-8cdd-382b65e320b2",
   "metadata": {},
   "outputs": [],
   "source": [
    "from rdkit import Chem\n",
    "from rdkit import RDLogger\n",
    "RDLogger.DisableLog('rdApp.*')"
   ]
  },
  {
   "cell_type": "code",
   "execution_count": 4,
   "id": "a7bdd455-abad-49c3-b713-fbc8787e1a86",
   "metadata": {},
   "outputs": [],
   "source": [
    "from dig.ggraph.dataset import ZINC800\n",
    "from dig.ggraph.evaluation import Cons_Optim_Evaluator"
   ]
  },
  {
   "cell_type": "code",
   "execution_count": 5,
   "id": "bf766c60-90a8-487c-8259-e17532297336",
   "metadata": {},
   "outputs": [],
   "source": [
    "dataset = ZINC800(one_shot=False, root=path_adj+'./datasets')"
   ]
  },
  {
   "cell_type": "code",
   "execution_count": 6,
   "id": "1527a27a-a259-4636-8907-13155c6b08fa",
   "metadata": {},
   "outputs": [],
   "source": [
    "zinc_800_jt = torch.load(path_adj+\"datasets/zinc_800_jt/processed/data.pt\")"
   ]
  },
  {
   "cell_type": "code",
   "execution_count": 7,
   "id": "178ae475-4d9b-420c-b0fe-40f0d35827f6",
   "metadata": {},
   "outputs": [],
   "source": [
    "smiles = zinc_800_jt[-1]"
   ]
  },
  {
   "cell_type": "code",
   "execution_count": 8,
   "id": "abaa6f06-7caa-49b2-bf24-cc859fccdf39",
   "metadata": {},
   "outputs": [],
   "source": [
    "# Define model\n",
    "jtvae = JTVAE(smiles)"
   ]
  },
  {
   "cell_type": "code",
   "execution_count": 9,
   "id": "48e49f4d-2008-408d-9910-6c49a9cea057",
   "metadata": {},
   "outputs": [
    {
     "name": "stdout",
     "output_type": "stream",
     "text": [
      "28 420\n"
     ]
    },
    {
     "name": "stderr",
     "output_type": "stream",
     "text": [
      "/data/bora.oztekin/anaconda3/envs/jtvae37f/lib/python3.7/site-packages/torch/nn/_reduction.py:42: UserWarning: size_average and reduce args will be deprecated, please use reduction='sum' instead.\n",
      "  warnings.warn(warning.format(ret))\n"
     ]
    }
   ],
   "source": [
    "config = {\"hidden_size\": 420, \"latent_size\": 56, \"depth\": 3}\n",
    "jtvae.get_model(\"cons_optim\", config)"
   ]
  },
  {
   "cell_type": "code",
   "execution_count": 10,
   "id": "a208c434-961a-4dd7-9218-e8cf9010f4c5",
   "metadata": {},
   "outputs": [],
   "source": [
    "property_values = zinc_800_jt[0]['y']"
   ]
  },
  {
   "cell_type": "code",
   "execution_count": 11,
   "id": "5abc0e9a-ee2e-4482-81ad-88cd6690d581",
   "metadata": {},
   "outputs": [],
   "source": [
    "dataset = jtnn.PropDataset(zinc_800_jt[-1], property_values)"
   ]
  },
  {
   "cell_type": "code",
   "execution_count": 12,
   "id": "78d5e4ab-66a8-48af-9e89-ca7024439a93",
   "metadata": {},
   "outputs": [],
   "source": [
    "dataloader = torch.utils.data.DataLoader(dataset, batch_size=32, shuffle=True, num_workers=4, collate_fn=lambda x:x, drop_last=True)"
   ]
  },
  {
   "cell_type": "code",
   "execution_count": 13,
   "id": "400ff7f0-893a-4796-8209-cc2425958f9f",
   "metadata": {},
   "outputs": [
    {
     "name": "stderr",
     "output_type": "stream",
     "text": [
      "/data/bora.oztekin/DIG/dig/ggraph/method/JTVAE/jtvae.py:213: UserWarning: nn.init.xavier_normal is now deprecated in favor of nn.init.xavier_normal_.\n",
      "  nn.init.xavier_normal(param)\n",
      "/data/bora.oztekin/DIG/dig/ggraph/method/JTVAE/jtvae.py:211: UserWarning: nn.init.constant is now deprecated in favor of nn.init.constant_.\n",
      "  nn.init.constant(param, 0)\n",
      "/data/bora.oztekin/anaconda3/envs/jtvae37f/lib/python3.7/site-packages/torch/optim/lr_scheduler.py:134: UserWarning: Detected call of `lr_scheduler.step()` before `optimizer.step()`. In PyTorch 1.1.0 and later, you should call them in the opposite order: `optimizer.step()` before `lr_scheduler.step()`.  Failure to do this will result in PyTorch skipping the first value of the learning rate schedule. See more details at https://pytorch.org/docs/stable/optim.html#how-to-adjust-learning-rate\n",
      "  \"https://pytorch.org/docs/stable/optim.html#how-to-adjust-learning-rate\", UserWarning)\n",
      "  0%|          | 0/25 [00:00<?, ?it/s]"
     ]
    },
    {
     "name": "stdout",
     "output_type": "stream",
     "text": [
      "Model #Params: 4022K\n"
     ]
    },
    {
     "name": "stderr",
     "output_type": "stream",
     "text": [
      " 76%|███████▌  | 19/25 [01:43<00:30,  5.01s/it]"
     ]
    },
    {
     "name": "stdout",
     "output_type": "stream",
     "text": [
      "KL: 14.6, Word: 9.91, Topo: 57.27, Assm: 36.34, Steo: 41.95, Prop: 130.9817\n"
     ]
    },
    {
     "name": "stderr",
     "output_type": "stream",
     "text": [
      "100%|██████████| 25/25 [01:54<00:00,  4.57s/it]"
     ]
    },
    {
     "name": "stdout",
     "output_type": "stream",
     "text": [
      "learning rate: 0.072900\n"
     ]
    },
    {
     "name": "stderr",
     "output_type": "stream",
     "text": [
      "\n",
      "/data/bora.oztekin/anaconda3/envs/jtvae37f/lib/python3.7/site-packages/torch/optim/lr_scheduler.py:449: UserWarning: To get the last learning rate computed by the scheduler, please use `get_last_lr()`.\n",
      "  \"please use `get_last_lr()`.\", UserWarning)\n"
     ]
    }
   ],
   "source": [
    "batch_size = 40\n",
    "hidden_size = 200\n",
    "latent_size = 56\n",
    "depth = 3\n",
    "beta = 1.0\n",
    "lr = 1e-1 #1e-3\n",
    "num_epochs = 1\n",
    "jtvae.train_cons_optim(dataloader, batch_size, num_epochs, hidden_size, latent_size, depth, beta, lr)"
   ]
  },
  {
   "cell_type": "code",
   "execution_count": null,
   "id": "12933bab-697a-461f-8115-ea1cdb042e1e",
   "metadata": {},
   "outputs": [],
   "source": [
    "jtvae.run_cons_optim(smiles)"
   ]
  }
 ],
 "metadata": {
  "kernelspec": {
   "display_name": "Python [conda env:jtvae37f] *",
   "language": "python",
   "name": "conda-env-jtvae37f-py"
  },
  "language_info": {
   "codemirror_mode": {
    "name": "ipython",
    "version": 3
   },
   "file_extension": ".py",
   "mimetype": "text/x-python",
   "name": "python",
   "nbconvert_exporter": "python",
   "pygments_lexer": "ipython3",
   "version": "3.7.10"
  }
 },
 "nbformat": 4,
 "nbformat_minor": 5
}
