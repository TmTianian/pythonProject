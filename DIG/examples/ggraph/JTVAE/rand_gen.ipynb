{
 "cells": [
  {
   "cell_type": "code",
   "execution_count": 1,
   "id": "a0feb913-2dfa-478a-bfcf-dc432115645d",
   "metadata": {},
   "outputs": [],
   "source": [
    "import sys\n",
    "sys.path.append('../../../../')"
   ]
  },
  {
   "cell_type": "code",
   "execution_count": 18,
   "id": "459e0f88-d655-4b86-8701-718c4a077b36",
   "metadata": {},
   "outputs": [
    {
     "name": "stdout",
     "output_type": "stream",
     "text": [
      "The autoreload extension is already loaded. To reload it, use:\n",
      "  %reload_ext autoreload\n"
     ]
    }
   ],
   "source": [
    "%load_ext autoreload\n",
    "%autoreload 2\n",
    "\n",
    "import torch\n",
    "from jtvae import JTVAE\n",
    "from fast_jtnn.datautils import MolTreeFolder, PairTreeFolder, MolTreeDataset\n",
    "\n",
    "path_adj = \"./\""
   ]
  },
  {
   "cell_type": "code",
   "execution_count": 12,
   "id": "9e2ee3e3-bd0d-4926-a8ac-781c4ccc6126",
   "metadata": {},
   "outputs": [],
   "source": [
    "from rdkit import Chem\n",
    "from rdkit import RDLogger\n",
    "RDLogger.DisableLog('rdApp.*')"
   ]
  },
  {
   "cell_type": "code",
   "execution_count": 22,
   "id": "32832458-342a-4287-ba85-5404f9a4f86e",
   "metadata": {},
   "outputs": [],
   "source": [
    "from dig.ggraph.dataset import ZINC250k, ZINC800\n",
    "from dig.ggraph.evaluation import Rand_Gen_Evaluator"
   ]
  },
  {
   "cell_type": "code",
   "execution_count": 23,
   "id": "5c333cf4-62a0-4557-aea2-1e4a1f536f24",
   "metadata": {},
   "outputs": [],
   "source": [
    "dataset = ZINC800(one_shot=False, root=path_adj+'./datasets')"
   ]
  },
  {
   "cell_type": "code",
   "execution_count": 24,
   "id": "928a1262-ccb7-481b-9dd7-6b5ed42c1d9a",
   "metadata": {},
   "outputs": [],
   "source": [
    "zinc_800_jt = torch.load(path_adj+\"datasets/zinc_800_jt/processed/data.pt\")"
   ]
  },
  {
   "cell_type": "code",
   "execution_count": 25,
   "id": "17c24f94-45e2-4aa9-abdb-52d0b68d011e",
   "metadata": {},
   "outputs": [],
   "source": [
    "smiles = zinc_800_jt[-1]"
   ]
  },
  {
   "cell_type": "code",
   "execution_count": 37,
   "id": "bfd4769a-5512-4ee6-acf2-156e739a12f9",
   "metadata": {},
   "outputs": [
    {
     "name": "stderr",
     "output_type": "stream",
     "text": [
      "/data/bora.oztekin/anaconda3/envs/jtvae37f/lib/python3.7/site-packages/torch/nn/_reduction.py:42: UserWarning: size_average and reduce args will be deprecated, please use reduction='sum' instead.\n",
      "  warnings.warn(warning.format(ret))\n"
     ]
    }
   ],
   "source": [
    "# Define model\n",
    "jtvae = JTVAE(smiles)\n",
    "config = {\"hidden_size\": 420, \"latent_size\": 56, \"depthT\": 20, \"depthG\": 3}\n",
    "jtvae.get_model('rand_gen', config)"
   ]
  },
  {
   "cell_type": "code",
   "execution_count": 28,
   "id": "96b39234-7395-4462-ac48-eef302ba0d8d",
   "metadata": {},
   "outputs": [
    {
     "name": "stderr",
     "output_type": "stream",
     "text": [
      "100%|██████████| 800/800 [04:36<00:00,  2.90it/s] \n"
     ]
    }
   ],
   "source": [
    "preprocessed = jtvae.preprocess(smiles)"
   ]
  },
  {
   "cell_type": "code",
   "execution_count": 45,
   "id": "6264b23f-e16b-41c7-85eb-96fd0cda9b96",
   "metadata": {},
   "outputs": [
    {
     "name": "stdout",
     "output_type": "stream",
     "text": [
      "Model #Params: 4260K\n"
     ]
    }
   ],
   "source": [
    "loader = MolTreeFolder(preprocessed, jtvae.vocab, 32, num_workers=4)\n",
    "load_epoch = 0\n",
    "lr = 1e-3\n",
    "anneal_rate = 0.9\n",
    "clip_norm = 50.0\n",
    "num_epochs = 1\n",
    "total_step = 0  # TODO args.load_epoch\n",
    "beta = 0.0  # TODO args.beta\n",
    "max_beta = 1.0\n",
    "save_iter = 5000\n",
    "step_beta = 0.002\n",
    "anneal_iter = 40000\n",
    "print_iter = 50\n",
    "kl_anneal_iter = 2000\n",
    "jtvae.train_rand_gen(loader, load_epoch, lr, anneal_rate, clip_norm, num_epochs, beta, max_beta, step_beta, anneal_iter, kl_anneal_iter, print_iter, save_iter)"
   ]
  },
  {
   "cell_type": "code",
   "execution_count": 46,
   "id": "d1f4d622-6cc7-473a-85dc-2a86185278a3",
   "metadata": {},
   "outputs": [],
   "source": [
    "samples = list(map(Chem.MolFromSmiles, jtvae.run_rand_gen(30)))"
   ]
  },
  {
   "cell_type": "code",
   "execution_count": 47,
   "id": "710f8ff8-9772-4a04-a649-163db82a3903",
   "metadata": {},
   "outputs": [
    {
     "name": "stdout",
     "output_type": "stream",
     "text": [
      "Valid Ratio: 30/30 = 100.00%\n",
      "Unique Ratio: 17/30 = 56.67%\n",
      "Novel Ratio: 30/30 = 100.00%\n",
      "{'valid_ratio': 100.0, 'unique_ratio': 56.666666666666664, 'novel_ratio': 100.0}\n"
     ]
    }
   ],
   "source": [
    "res_dict = {'mols': samples, 'train_smiles': smiles}\n",
    "evaluator = Rand_Gen_Evaluator()\n",
    "results = evaluator.eval(res_dict)\n",
    "print(results)"
   ]
  },
  {
   "cell_type": "code",
   "execution_count": null,
   "id": "f22a61e4-e5aa-444c-b2b8-d5f066f7a047",
   "metadata": {},
   "outputs": [],
   "source": []
  }
 ],
 "metadata": {
  "kernelspec": {
   "display_name": "Python [conda env:jtvae37f] *",
   "language": "python",
   "name": "conda-env-jtvae37f-py"
  },
  "language_info": {
   "codemirror_mode": {
    "name": "ipython",
    "version": 3
   },
   "file_extension": ".py",
   "mimetype": "text/x-python",
   "name": "python",
   "nbconvert_exporter": "python",
   "pygments_lexer": "ipython3",
   "version": "3.7.10"
  }
 },
 "nbformat": 4,
 "nbformat_minor": 5
}
