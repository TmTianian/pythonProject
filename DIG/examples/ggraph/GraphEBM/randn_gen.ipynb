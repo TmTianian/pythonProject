{
 "cells": [
  {
   "cell_type": "markdown",
   "metadata": {},
   "source": [
    "## Example of GraphEBM: Random Generation"
   ]
  },
  {
   "cell_type": "code",
   "execution_count": 1,
   "metadata": {},
   "outputs": [
    {
     "name": "stderr",
     "output_type": "stream",
     "text": [
      "<frozen importlib._bootstrap>:219: RuntimeWarning: to-Python converter for boost::shared_ptr<RDKit::FilterCatalogEntry const> already registered; second conversion method ignored.\n"
     ]
    }
   ],
   "source": [
    "import os\n",
    "import torch\n",
    "from torch_geometric.data import DenseDataLoader\n",
    "from rdkit import RDLogger\n",
    "\n",
    "from dig.ggraph.dataset import QM9, ZINC250k\n",
    "from dig.ggraph.method import GraphEBM\n",
    "from dig.ggraph.evaluation import RandGenEvaluator"
   ]
  },
  {
   "cell_type": "code",
   "execution_count": 2,
   "metadata": {},
   "outputs": [],
   "source": [
    "device = torch.device('cuda:1')"
   ]
  },
  {
   "cell_type": "markdown",
   "metadata": {},
   "source": [
    "#### Prepare Dataset"
   ]
  },
  {
   "cell_type": "code",
   "execution_count": 3,
   "metadata": {},
   "outputs": [
    {
     "name": "stdout",
     "output_type": "stream",
     "text": [
      "making raw files: ./raw\n",
      "Downloading https://raw.githubusercontent.com/divelab/DIG_storage/main/ggraph/zinc250k_property.csv\n",
      "Processing...\n",
      "making processed files: ./zinc250k_property/processed_oneshot\n",
      "Done!\n"
     ]
    }
   ],
   "source": [
    "dataset = ZINC250k(one_shot=True, root='./')\n",
    "splits = dataset.get_split_idx()\n",
    "train_set = dataset[splits['train_idx']]\n",
    "train_dataloader = DenseDataLoader(train_set, batch_size=128, shuffle=True, num_workers=0)"
   ]
  },
  {
   "cell_type": "markdown",
   "metadata": {},
   "source": [
    "#### Training"
   ]
  },
  {
   "cell_type": "markdown",
   "metadata": {},
   "source": [
    "Before starting training, we need to define an object `graphebm` as an instance of class `GraphEBM`.\n",
    "\n",
    "**Skip training**: You can also download our trained models on [ZINC250k](https://github.com/divelab/DIG_storage/blob/main/ggraph/GraphEBM/GraphEBM_zinc250k_uncond.pt) and [QM9](https://github.com/divelab/DIG_storage/blob/main/ggraph/GraphEBM/GraphEBM_qm9_uncond.pt). Note: We found that we might have an error about loading the trained models if we download them with `wget`. If you have the same error, please download the models manually."
   ]
  },
  {
   "cell_type": "code",
   "execution_count": 4,
   "metadata": {},
   "outputs": [],
   "source": [
    "graphebm = GraphEBM(n_atom=38, n_atom_type=10, n_edge_type=4, hidden=64, device=device)"
   ]
  },
  {
   "cell_type": "code",
   "execution_count": null,
   "metadata": {},
   "outputs": [],
   "source": [
    "graphebm.train_rand_gen(train_dataloader, lr=1e-4, wd=0, max_epochs=20, c=0, ld_step=150, ld_noise=0.005, ld_step_size=30, clamp=True, alpha=1, save_interval=1, save_dir='./checkpoints')"
   ]
  },
  {
   "cell_type": "markdown",
   "metadata": {},
   "source": [
    "#### Generation"
   ]
  },
  {
   "cell_type": "markdown",
   "metadata": {},
   "source": [
    "To construct molecules from our generated node matrices and adjacency tensors, we need the `atomic_num_list`, which denotes what atom each dimension of the node matrix corresponds to. `0` denotes the virtual atom type."
   ]
  },
  {
   "cell_type": "code",
   "execution_count": 6,
   "metadata": {},
   "outputs": [
    {
     "name": "stdout",
     "output_type": "stream",
     "text": [
      "Loading paramaters from ./GraphEBM_zinc250k_uncond.pt\n",
      "Initializing samples...\n",
      "Generating samples...\n"
     ]
    }
   ],
   "source": [
    "### Ignore info output by RDKit\n",
    "RDLogger.DisableLog('rdApp.error') \n",
    "RDLogger.DisableLog('rdApp.warning')\n",
    "\n",
    "atomic_num_list = dataset.atom_list  # [6, 7, 8, 9, 15, 16, 17, 35, 53, 0] for ZINC250k\n",
    "gen_mols = graphebm.run_rand_gen(checkpoint_path='./GraphEBM_zinc250k_uncond.pt', n_samples=10000, c=0, ld_step=150, ld_noise=0.005, ld_step_size=30, clamp=True, atomic_num_list=atomic_num_list)"
   ]
  },
  {
   "cell_type": "markdown",
   "metadata": {},
   "source": [
    "#### Evaluations"
   ]
  },
  {
   "cell_type": "code",
   "execution_count": 7,
   "metadata": {},
   "outputs": [
    {
     "name": "stdout",
     "output_type": "stream",
     "text": [
      "Valid Ratio: 10000/10000 = 100.00%\n",
      "Unique Ratio: 9805/10000 = 98.05%\n",
      "Novel Ratio: 10000/10000 = 100.00%\n",
      "{'valid_ratio': 100.0, 'unique_ratio': 98.05, 'novel_ratio': 100.0}\n"
     ]
    }
   ],
   "source": [
    "train_smiles = [data.smile for data in dataset[splits['train_idx']]]\n",
    "res_dict = {'mols':gen_mols, 'train_smiles': train_smiles}\n",
    "evaluator = RandGenEvaluator()\n",
    "results = evaluator.eval(res_dict)\n",
    "print(results)"
   ]
  }
 ],
 "metadata": {
  "kernelspec": {
   "display_name": "Python (DIG)",
   "language": "python",
   "name": "dig"
  },
  "language_info": {
   "codemirror_mode": {
    "name": "ipython",
    "version": 3
   },
   "file_extension": ".py",
   "mimetype": "text/x-python",
   "name": "python",
   "nbconvert_exporter": "python",
   "pygments_lexer": "ipython3",
   "version": "3.8.8"
  }
 },
 "nbformat": 4,
 "nbformat_minor": 4
}
