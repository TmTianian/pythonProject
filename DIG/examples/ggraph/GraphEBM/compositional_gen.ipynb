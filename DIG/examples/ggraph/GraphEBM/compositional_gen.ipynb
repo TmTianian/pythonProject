{
 "cells": [
  {
   "cell_type": "markdown",
   "metadata": {},
   "source": [
    "## Example of GraphEBM: Compositional Generation"
   ]
  },
  {
   "cell_type": "code",
   "execution_count": 1,
   "metadata": {},
   "outputs": [
    {
     "name": "stderr",
     "output_type": "stream",
     "text": [
      "<frozen importlib._bootstrap>:219: RuntimeWarning: to-Python converter for boost::shared_ptr<RDKit::FilterCatalogEntry const> already registered; second conversion method ignored.\n"
     ]
    }
   ],
   "source": [
    "import os\n",
    "import torch\n",
    "from torch_geometric.data import DenseDataLoader\n",
    "from rdkit import RDLogger\n",
    "\n",
    "from dig.ggraph.dataset import ZINC250k\n",
    "from dig.ggraph.method import GraphEBM"
   ]
  },
  {
   "cell_type": "code",
   "execution_count": 2,
   "metadata": {},
   "outputs": [],
   "source": [
    "device = torch.device('cuda:1')"
   ]
  },
  {
   "cell_type": "markdown",
   "metadata": {},
   "source": [
    "#### Prepare Dataset"
   ]
  },
  {
   "cell_type": "code",
   "execution_count": 3,
   "metadata": {},
   "outputs": [],
   "source": [
    "dataset = ZINC250k(one_shot=True, root='./')\n",
    "atomic_num_list = dataset.atom_list"
   ]
  },
  {
   "cell_type": "markdown",
   "metadata": {},
   "source": [
    "#### Generation"
   ]
  },
  {
   "cell_type": "markdown",
   "metadata": {},
   "source": [
    "To generate molecules towards multiple objectives in a compositional manner, we need two trained models based on our goal-directed generation.\n",
    "\n",
    "**Skip training**: You can also download our trained models for goal-directed generation towards [QED](https://github.com/divelab/DIG_storage/blob/main/ggraph/GraphEBM/GraphEBM_zinc250k_goal_qed.pt) and [plogp](https://github.com/divelab/DIG_storage/blob/main/ggraph/GraphEBM/GraphEBM_zinc250k_goal_plogp.pt). Note: We found that we might have an error about loading the trained models if we download them with `wget`. If you have the same error, please download the models manually."
   ]
  },
  {
   "cell_type": "code",
   "execution_count": 4,
   "metadata": {},
   "outputs": [],
   "source": [
    "graphebm = GraphEBM(n_atom=38, n_atom_type=10, n_edge_type=4, hidden=64, device=device)"
   ]
  },
  {
   "cell_type": "code",
   "execution_count": 5,
   "metadata": {},
   "outputs": [
    {
     "name": "stdout",
     "output_type": "stream",
     "text": [
      "Loading paramaters from ./GraphEBM_zinc250k_goal_qed.pt\n",
      "Loading paramaters from ./GraphEBM_zinc250k_goal_plogp.pt\n",
      "Initializing samples...\n",
      "Generating samples...\n"
     ]
    }
   ],
   "source": [
    "### Ignore info output by RDKit\n",
    "RDLogger.DisableLog('rdApp.error') \n",
    "RDLogger.DisableLog('rdApp.warning')\n",
    "\n",
    "gen_mols = graphebm.run_comp_gen(checkpoint_path_qed='./GraphEBM_zinc250k_goal_qed.pt', checkpoint_path_plogp='./GraphEBM_zinc250k_goal_plogp.pt', n_samples=10000, c=0, ld_step=300, ld_noise=0.005, ld_step_size=30, clamp=True, atomic_num_list=atomic_num_list)"
   ]
  }
 ],
 "metadata": {
  "kernelspec": {
   "display_name": "Python (DIG)",
   "language": "python",
   "name": "dig"
  },
  "language_info": {
   "codemirror_mode": {
    "name": "ipython",
    "version": 3
   },
   "file_extension": ".py",
   "mimetype": "text/x-python",
   "name": "python",
   "nbconvert_exporter": "python",
   "pygments_lexer": "ipython3",
   "version": "3.8.8"
  }
 },
 "nbformat": 4,
 "nbformat_minor": 4
}
